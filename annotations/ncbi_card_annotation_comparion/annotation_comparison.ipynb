{
 "cells": [
  {
   "cell_type": "code",
   "execution_count": 1,
   "id": "389e72b9",
   "metadata": {},
   "outputs": [],
   "source": [
    "import pandas as pd\n",
    "import numpy as np\n",
    "import json"
   ]
  },
  {
   "cell_type": "markdown",
   "id": "08bc8b9c",
   "metadata": {},
   "source": [
    "# Comparison of OXA annotations across NCBI and CARD\n",
    "\n",
    "Namely taking all the OXA from each database and running AFP and RGI on these protein sequences to see how the opposite database's tool and their own tool annotate them.\n",
    "\n",
    "## Extract metadata from databases"
   ]
  },
  {
   "cell_type": "code",
   "execution_count": 2,
   "id": "6caac681",
   "metadata": {},
   "outputs": [],
   "source": [
    "# CARD\n",
    "with open('dbs/card.json') as fh:\n",
    "    card = json.load(fh)\n",
    "del_keys = []\n",
    "for key in card.keys():\n",
    "    if key.startswith('_'):\n",
    "        del_keys.append(key)\n",
    "\n",
    "for key in del_keys:\n",
    "    del card[key]\n",
    "    \n",
    "    \n",
    "aro_to_protein_accession = {}\n",
    "aro_to_drug = {}\n",
    "for entry in card.values():\n",
    "    if entry['model_name'].startswith('OXA'):\n",
    "        accession = entry['ARO_accession']\n",
    "        sequence = entry['model_sequences']['sequence']\n",
    "        if len(sequence) > 1:\n",
    "            print(entry)\n",
    "            assert False\n",
    "        else:\n",
    "            sequence = sequence[list(sequence.keys())[0]]  \n",
    "            aro_to_protein_accession[accession] = sequence['protein_sequence']['accession']\n",
    "        \n",
    "        drugs = []\n",
    "        for key, category in entry['ARO_category'].items():\n",
    "            if category['category_aro_class_name'] == 'Drug Class':\n",
    "                drugs.append(category['category_aro_name'])\n",
    "        drugs = '/'.join(sorted(drugs))\n",
    "        if len(drugs) > 0:\n",
    "            aro_to_drug[accession] = drugs\n",
    "            \n",
    "# NCBI\n",
    "ncbi_db = pd.read_csv('dbs/ReferenceGeneCatalog.txt', sep='\\t')\n",
    "ncbi_db = ncbi_db[~ncbi_db['subclass'].isna()]\n",
    "ncbi_to_drug = ncbi_db.set_index('refseq_protein_accession')['subclass'].apply(lambda x: '/'.join(sorted(x.lower().split('/'))))"
   ]
  },
  {
   "cell_type": "markdown",
   "id": "3998b1c2",
   "metadata": {},
   "source": [
    "## Parse NCBI cross and self-annotation\n",
    "\n",
    "Executed via: `run.sh`"
   ]
  },
  {
   "cell_type": "code",
   "execution_count": 3,
   "id": "01618c56",
   "metadata": {},
   "outputs": [],
   "source": [
    "ncbi_oxas = []\n",
    "ncbi_accessions = []\n",
    "with open('ncbi_oxa.faa') as fh:\n",
    "    for line in fh:\n",
    "        if line.startswith('>'):\n",
    "            ncbi_accessions.append(line.split('|')[1])\n",
    "            ncbi_oxas.append(line.split('|')[4].replace('bla', ''))\n",
    "ncbi_oxas = pd.DataFrame(index=ncbi_oxas)\n",
    "ncbi_oxas['NCBI Sequence Accession'] = ncbi_accessions\n",
    "\n",
    "ncbi_with_ncbi = pd.read_csv('rgi_afp_output/ncbi_with_ncbi_annotation.txt', sep='\\t')\n",
    "ncbi_with_ncbi['NCBI_ID'] = ncbi_with_ncbi['Protein identifier'].str.split('|').str.get(4).str.replace('bla', '')\n",
    "ncbi_with_ncbi['NCBI_annotation'] = ncbi_with_ncbi['Gene symbol'].str.replace('bla', '')\n",
    "ncbi_with_ncbi['NCBI Drug Class'] = ncbi_with_ncbi['Subclass'].apply(lambda x: '/'.join(sorted(x.lower().split('/'))))\n",
    "\n",
    "ncbi_with_card = pd.read_csv('rgi_afp_output/ncbi_with_card_annotation.txt', sep='\\t')\n",
    "ncbi_with_card['NCBI_ID'] = ncbi_with_card['ORF_ID'].str.split('|').str.get(4).str.replace('bla', '')\n",
    "ncbi_with_card['CARD_annotation'] = ncbi_with_card['Best_Hit_ARO']\n",
    "ncbi_with_card['CARD Drug Class'] = ncbi_with_card['ARO'].apply(lambda x: aro_to_drug[str(x)] if str(x) in aro_to_drug else np.nan) \n",
    "ncbi_with_card['CARD Protein Accession'] = ncbi_with_card['ARO'].apply(lambda x: aro_to_protein_accession[str(x)] if str(x) in aro_to_protein_accession else np.nan) \n",
    "\n",
    "\n",
    "ncbi_oxas['AMRFinderPlus v3.10.40 with 2022-08-09.1 symbol'] = ncbi_with_ncbi.set_index('NCBI_ID')['NCBI_annotation']\n",
    "ncbi_oxas['AMRFinderPlus v3.10.40 with 2022-08-09.1 accession']  = ncbi_with_ncbi.set_index('NCBI_ID')['Accession of closest sequence']\n",
    "ncbi_oxas['AMRFinderPlus v3.10.40 with 2022-08-09.1 drug class']  = ncbi_with_ncbi.set_index('NCBI_ID')['NCBI Drug Class']\n",
    "\n",
    "          \n",
    "          \n",
    "ncbi_oxas['RGI v5.2.1 with v3.2.4 symbol'] = ncbi_with_card.set_index('NCBI_ID')['CARD_annotation']\n",
    "ncbi_oxas['RGI v5.2.1 with v3.2.4 accession'] = ncbi_with_card.set_index('NCBI_ID')['CARD Protein Accession']\n",
    "ncbi_oxas['RGI v5.2.1 with v3.2.4 drug class'] = ncbi_with_card.set_index('NCBI_ID')['CARD Drug Class']\n",
    "\n",
    "\n",
    "ncbi_oxas = ncbi_oxas.reset_index().rename(columns={'index': 'NCBI Sequence ID'})\n",
    "\n",
    "ncbi_oxas.to_csv('ncbi_oxa_annotations.tsv', sep='\\t')"
   ]
  },
  {
   "cell_type": "markdown",
   "id": "9db51b83",
   "metadata": {},
   "source": [
    "## Parse CARD cross and self-annotation"
   ]
  },
  {
   "cell_type": "code",
   "execution_count": 4,
   "id": "ec5f34c5",
   "metadata": {},
   "outputs": [],
   "source": [
    "card_oxas = []\n",
    "with open('card_oxa.faa') as fh:\n",
    "    for line in fh:\n",
    "        if line.startswith('>'):\n",
    "            card_oxas.append(line.split('|')[3].split()[0])\n",
    "card_oxas = pd.DataFrame(index=card_oxas)\n",
    "\n",
    "card_with_card = pd.read_csv('rgi_afp_output/card_with_card_annotation.txt', sep='\\t')\n",
    "card_with_card['CARD_ID'] = card_with_card['ORF_ID'].str.split('|').str.get(3).str.split().str.get(0)\n",
    "card_with_card['CARD_annotation'] = card_with_card['Best_Hit_ARO']\n",
    "card_with_card['CARD Protein Accession']  = card_with_card['ARO'].apply(lambda x: aro_to_protein_accession[str(x)] if str(x) in aro_to_protein_accession else np.nan) \n",
    "card_with_card['CARD Drug Class'] = card_with_card['ARO'].apply(lambda x: aro_to_drug[str(x)] if str(x) in aro_to_drug else np.nan) \n",
    "\n",
    "\n",
    "card_with_ncbi = pd.read_csv('rgi_afp_output/card_with_ncbi_annotation.txt', sep='\\t')\n",
    "card_with_ncbi['CARD_ID'] = card_with_ncbi['Protein identifier'].str.split('|').str.get(3).str.split().str.get(0)\n",
    "card_with_ncbi['NCBI_annotation'] = card_with_ncbi['Gene symbol'].str.replace('bla', '')\n",
    "card_with_ncbi['NCBI Drug Class'] = card_with_ncbi['Subclass'].apply(lambda x: '/'.join(sorted(x.lower().split('/'))))\n",
    "#card_with_ncbi['NCBI accession'] = \n",
    "\n",
    "#ncbi_oxas['AMRFinderPlus v3.10.40 with 2022-08-09.1 accession']  = ncbi_with_ncbi.set_index('NCBI_ID')['Accession of closest sequence']\n",
    "\n",
    "\n",
    "card_oxas['RGI v5.2.1 with v3.2.4 symbol'] = card_with_card.set_index('CARD_ID')['CARD_annotation']\n",
    "card_oxas['RGI v5.2.1 with v3.2.4 accession'] = card_with_card.set_index('CARD_ID')['CARD Protein Accession']\n",
    "card_oxas['RGI v5.2.1 with v3.2.4 drug class'] = card_with_card.set_index('CARD_ID')['CARD Drug Class']\n",
    "\n",
    "card_oxas['AMRFinderPlus v3.10.40 with 2022-08-09.1 symbol'] = card_with_ncbi.set_index('CARD_ID')['NCBI_annotation']\n",
    "card_oxas['AMRFinderPlus v3.10.40 with 2022-08-09.1 accession'] = card_with_ncbi.set_index('CARD_ID')['Accession of closest sequence']\n",
    "card_oxas['AMRFinderPlus v3.10.40 with 2022-08-09.1 drug class'] = card_with_ncbi.set_index('CARD_ID')['NCBI Drug Class']\n",
    "\n",
    "\n",
    "card_oxas = card_oxas.reset_index().rename(columns={'index': 'CARD Sequence ID'})\n",
    "\n",
    "card_oxas.to_csv('card_oxa_annotations.tsv', sep='\\t')"
   ]
  },
  {
   "cell_type": "markdown",
   "id": "ec06e19b",
   "metadata": {},
   "source": [
    "## Comparison"
   ]
  },
  {
   "cell_type": "code",
   "execution_count": 28,
   "id": "1316c37e",
   "metadata": {},
   "outputs": [
    {
     "name": "stdout",
     "output_type": "stream",
     "text": [
      "0 CARD OXAs are incorrectly annotated by RGI\n",
      "10 CARD OXAs are annotated as a different OXA by NCBI\n",
      "0 CARD OXAs are missing in NCBI\n",
      "\n",
      "1 NCBI OXAs are incorrectly annotated by NCBI\n",
      "187 NCBI OXAs are annotated as a different OXA by CARD/RGI\n",
      "17 NCBI OXAs are missing in CARD\n"
     ]
    }
   ],
   "source": [
    "print(f\"{card_oxas[card_oxas['CARD Sequence ID'] != card_oxas['RGI v5.2.1 with v3.2.4 symbol']].shape[0]} CARD OXAs are incorrectly annotated by RGI\")\n",
    "print(f\"{card_oxas[card_oxas['RGI v5.2.1 with v3.2.4 symbol'] != card_oxas['AMRFinderPlus v3.10.40 with 2022-08-09.1 symbol']].shape[0]} CARD OXAs are annotated as a different OXA by NCBI\")\n",
    "print(f\"{card_oxas[card_oxas['AMRFinderPlus v3.10.40 with 2022-08-09.1 symbol'].isna()].shape[0]} CARD OXAs are missing in NCBI\")\n",
    "print()\n",
    "print(f\"{ncbi_oxas[ncbi_oxas['NCBI Sequence ID'] != ncbi_oxas['AMRFinderPlus v3.10.40 with 2022-08-09.1 symbol']].shape[0]} NCBI OXAs are incorrectly annotated by NCBI\")\n",
    "print(f\"{ncbi_oxas[ncbi_oxas['AMRFinderPlus v3.10.40 with 2022-08-09.1 symbol'] != ncbi_oxas['RGI v5.2.1 with v3.2.4 symbol']].shape[0]} NCBI OXAs are annotated as a different OXA by CARD/RGI\")\n",
    "print(f\"{ncbi_oxas[ncbi_oxas['RGI v5.2.1 with v3.2.4 symbol'].isna()].shape[0]} NCBI OXAs are missing in CARD\")"
   ]
  }
 ],
 "metadata": {
  "kernelspec": {
   "display_name": "Python 3 (ipykernel)",
   "language": "python",
   "name": "python3"
  },
  "language_info": {
   "codemirror_mode": {
    "name": "ipython",
    "version": 3
   },
   "file_extension": ".py",
   "mimetype": "text/x-python",
   "name": "python",
   "nbconvert_exporter": "python",
   "pygments_lexer": "ipython3",
   "version": "3.10.5"
  }
 },
 "nbformat": 4,
 "nbformat_minor": 5
}
